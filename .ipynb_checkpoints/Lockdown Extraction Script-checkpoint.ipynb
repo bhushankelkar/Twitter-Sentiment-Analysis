{
 "cells": [
  {
   "cell_type": "code",
   "execution_count": 1,
   "metadata": {},
   "outputs": [],
   "source": [
    "import twint\n",
    "import nest_asyncio\n",
    "import pandas as pd"
   ]
  },
  {
   "cell_type": "code",
   "execution_count": 2,
   "metadata": {},
   "outputs": [],
   "source": [
    "dates = ['2020-03-25',\n",
    "         '2020-03-26',\n",
    "         '2020-03-27',\n",
    "         '2020-03-28',\n",
    "         '2020-03-29',\n",
    "         '2020-03-30',\n",
    "         '2020-03-31',\n",
    "         '2020-04-01',\n",
    "         '2020-04-02',\n",
    "         '2020-04-03',\n",
    "         '2020-04-04',\n",
    "         '2020-04-05',\n",
    "         '2020-04-06',\n",
    "         '2020-04-07',\n",
    "         '2020-04-08',\n",
    "         '2020-04-09',\n",
    "         '2020-04-10',\n",
    "         '2020-04-11',\n",
    "         '2020-04-12',\n",
    "         '2020-04-13',\n",
    "         '2020-04-14',\n",
    "         '2020-04-15',\n",
    "         '2020-04-16',\n",
    "         '2020-04-17',\n",
    "         '2020-04-18',\n",
    "        ]\n"
   ]
  },
  {
   "cell_type": "code",
   "execution_count": null,
   "metadata": {},
   "outputs": [
    {
     "name": "stdout",
     "output_type": "stream",
     "text": [
      "1242881400186892291 2020-03-25 23:59:52 +0530 <Dharmendra41049> Business Standard: End of coronavirus pandemic is near, says Nobel laureate Michael Levitt.  https://www.business-standard.com/article/current-affairs/end-of-coronavirus-pandemic-is-near-says-nobel-laureate-michael-levitt-120032400668_1.html …\n",
      "1242881390712143872 2020-03-25 23:59:49 +0530 <therohitsharmap> Designed By:- The Rohit Sharma . #therohitsharmapdt #graphicdesigncommunity #graphicdesign #graphicdesigncentral #inovation #inovativedesign #graphicart #digitalart #digitaldesign #logodesigner #corona #coronavirus…  https://www.instagram.com/p/B-Kq4LhHhPM/?igshid=2akp5zte3uwt …\n",
      "1242881383518748672 2020-03-25 23:59:48 +0530 <amazingrups> @AUThackeray Sir thank you so much for All your Care But some of us are still not following order of the time . My neighbours are treating this lockdown as vacation . There relatives staying in nearby areas are frequent visitors and till late night they have gala time .\n",
      "1242881339382042624 2020-03-25 23:59:37 +0530 <lovekeshchandra> Indian Govt has not allowed cheap Elisa and rapid test n choosen expensive PCR. Private capped at 4500, not many can afford.  Strategy, less testing, less cases, Govt looks good. Control thru lockdown.  But without testing it will not end n may reoccur after lockdown.\n",
      "\n",
      " Current:  2020-03-25   (4, 33)\n"
     ]
    }
   ],
   "source": [
    "df = pd.DataFrame()\n",
    "for i in range(0,len(dates)-1):\n",
    "    nest_asyncio.apply()\n",
    "    c = twint.Config()\n",
    "    c.Search = \"(corona OR coronavirus OR covid OR pandemic OR lockdown OR quarantine OR covid-19 OR ppe)\" \n",
    "    c.Pandas = True\n",
    "    c.Pandas_clean = True\n",
    "    c.Limit = 1000\n",
    "    #c.Count = 1000\n",
    "    c.Geo = \"28.5934,77.2223,2000km\"# Run\n",
    "    c.Since = dates[i]\n",
    "    c.Until = dates[i+1]\n",
    "    c.Lang = 'en'\n",
    "    twint.run.Search(c)\n",
    "    df_temp = pd.DataFrame(twint.storage.panda.Tweets_df)\n",
    "    df = df.append(df_temp , ignore_index = True)\n",
    "    print(\"\\n Current: \",dates[i], \" \", df.shape)"
   ]
  },
  {
   "cell_type": "code",
   "execution_count": null,
   "metadata": {},
   "outputs": [],
   "source": [
    "df"
   ]
  },
  {
   "cell_type": "code",
   "execution_count": null,
   "metadata": {},
   "outputs": [],
   "source": [
    "df.to_csv('Lockdown1.csv')"
   ]
  },
  {
   "cell_type": "code",
   "execution_count": null,
   "metadata": {},
   "outputs": [],
   "source": [
    "dates_ = ['2020-04-18',\n",
    "          '2020-04-19',\n",
    "          '2020-04-20',\n",
    "          '2020-04-21',\n",
    "          '2020-04-22',\n",
    "          '2020-04-23',\n",
    "          '2020-04-24',\n",
    "          '2020-04-25',\n",
    "          '2020-04-26',\n",
    "          '2020-04-27',\n",
    "          '2020-04-28',\n",
    "          '2020-04-29',\n",
    "          '2020-04-30',\n",
    "          '2020-05-01',\n",
    "          '2020-05-02',\n",
    "          '2020-05-03',\n",
    "         ]"
   ]
  },
  {
   "cell_type": "code",
   "execution_count": null,
   "metadata": {},
   "outputs": [],
   "source": [
    "df = pd.DataFrame()\n",
    "for i in range(0,len(dates_)-1):\n",
    "    nest_asyncio.apply()\n",
    "    c = twint.Config()\n",
    "    c.Search = \"(corona OR coronavirus OR covid OR pandemic OR lockdown OR quarantine OR covid-19 OR ppe)\" \n",
    "    c.Pandas = True\n",
    "    c.Pandas_clean = True\n",
    "    c.Limit = 1000\n",
    "    #c.Count = 1000\n",
    "    c.Geo = \"28.5934,77.2223,2000km\"# Run\n",
    "    c.Since = dates_[i]\n",
    "    c.Until = dates_[i+1]\n",
    "    c.Lang = 'en'\n",
    "    twint.run.Search(c)\n",
    "    df_temp = pd.DataFrame(twint.storage.panda.Tweets_df)\n",
    "    df = df.append(df_temp , ignore_index = True)\n",
    "    print(\"\\n Current: \",dates_[i], \" \", df.shape)"
   ]
  },
  {
   "cell_type": "code",
   "execution_count": null,
   "metadata": {},
   "outputs": [],
   "source": [
    "df.to_csv('Lockdown2.csv')"
   ]
  },
  {
   "cell_type": "code",
   "execution_count": null,
   "metadata": {},
   "outputs": [],
   "source": [
    "dates_ = ['2020-04-18',\n",
    "          '2020-04-19',\n",
    "          '2020-04-20',\n",
    "          '2020-04-21',\n",
    "          '2020-04-22',\n",
    "          '2020-04-23',\n",
    "          '2020-04-24',\n",
    "          '2020-04-25',\n",
    "          '2020-04-26',\n",
    "          '2020-04-27',\n",
    "          '2020-04-28',\n",
    "          '2020-04-29',\n",
    "          '2020-04-30',\n",
    "          '2020-05-01',\n",
    "          '2020-05-02',\n",
    "          '2020-05-03',\n",
    "         ]"
   ]
  }
 ],
 "metadata": {
  "kernelspec": {
   "display_name": "Python 3",
   "language": "python",
   "name": "python3"
  },
  "language_info": {
   "codemirror_mode": {
    "name": "ipython",
    "version": 3
   },
   "file_extension": ".py",
   "mimetype": "text/x-python",
   "name": "python",
   "nbconvert_exporter": "python",
   "pygments_lexer": "ipython3",
   "version": "3.7.4"
  }
 },
 "nbformat": 4,
 "nbformat_minor": 2
}
